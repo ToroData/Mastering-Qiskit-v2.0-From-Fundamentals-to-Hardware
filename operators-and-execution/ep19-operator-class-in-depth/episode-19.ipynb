{
 "cells": [
  {
   "cell_type": "markdown",
   "id": "adf8053e",
   "metadata": {},
   "source": [
    "# Episode 19 — Working with the Operator Class in Depth\n",
    "\n",
    "In this notebook you will:\n",
    "\n",
    "- Convert circuits, gates, and Pauli objects into `Operator`.\n",
    "- Insert unitary operators into circuits and validate unitarity.\n",
    "- Combine operators via tensor/expand/compose and target specific subsystems.\n",
    "- Build linear combinations (Hermitian or not) and check properties.\n",
    "- Compare operators (equality vs. global phase) and use `process_fidelity`.\n",
    "\n",
    "> **Note**: `Operator` stores **dense matrices**—memory grows exponentially with qubits. Use it for small systems."
   ]
  },
  {
   "cell_type": "markdown",
   "id": "7f0d3117",
   "metadata": {},
   "source": [
    "## 1) Imports and utilities"
   ]
  },
  {
   "cell_type": "code",
   "execution_count": 1,
   "id": "3fd2dfb9",
   "metadata": {},
   "outputs": [],
   "source": [
    "import numpy as np\n",
    "from qiskit.circuit import QuantumCircuit\n",
    "from qiskit.circuit.library import XGate, CXGate, RYGate\n",
    "from qiskit.quantum_info import Operator, Pauli, process_fidelity\n",
    "\n",
    "np.set_printoptions(precision=3, suppress=True)"
   ]
  },
  {
   "cell_type": "markdown",
   "id": "4e18f422",
   "metadata": {},
   "source": [
    "## 2) Converting to `Operator`\n",
    "You can initialize an `Operator` from:\n",
    "- a **Pauli** string (single term),\n",
    "- a **Gate/Instruction**, or\n",
    "- a **QuantumCircuit** (implicitly simulating its unitary if supported)."
   ]
  },
  {
   "cell_type": "code",
   "execution_count": 2,
   "id": "547cf383",
   "metadata": {},
   "outputs": [
    {
     "name": "stdout",
     "output_type": "stream",
     "text": [
      "Pauli XY -> Operator shape: (4, 4)\n",
      "CX -> unitary? True\n",
      "RY(pi/3) matrix:\n",
      " [[ 0.866+0.j -0.5  +0.j]\n",
      " [ 0.5  +0.j  0.866+0.j]]\n",
      "Circuit -> Operator dims: (2, 2, 2) (2, 2, 2)\n"
     ]
    }
   ],
   "source": [
    "# From a Pauli string\n",
    "op_xy = Operator(Pauli(\"XY\"))\n",
    "print(\"Pauli XY -> Operator shape:\", op_xy.data.shape)\n",
    "\n",
    "# From a standard gate\n",
    "op_cx = Operator(CXGate())\n",
    "print(\"CX -> unitary?\", np.allclose(op_cx.data.conj().T @ op_cx.data, np.eye(4)))\n",
    "\n",
    "# From a parameterized gate\n",
    "op_ry = Operator(RYGate(np.pi/3))  # single-qubit rotation\n",
    "print(\"RY(pi/3) matrix:\\n\", op_ry.data)\n",
    "\n",
    "# From a circuit (no mid-circuit measure/reset/conditionals)\n",
    "qc = QuantumCircuit(3)\n",
    "qc.h(0)\n",
    "qc.cx(0,1)\n",
    "qc.cz(1,2)\n",
    "U = Operator(qc)\n",
    "print(\"Circuit -> Operator dims:\", U.input_dims(), U.output_dims())"
   ]
  },
  {
   "cell_type": "markdown",
   "id": "715b576a",
   "metadata": {},
   "source": [
    "## 3) Using Operators inside circuits\n",
    "If an operator is unitary, it can be appended as a `UnitaryGate`."
   ]
  },
  {
   "cell_type": "code",
   "execution_count": 3,
   "id": "ea238612",
   "metadata": {},
   "outputs": [
    {
     "name": "stdout",
     "output_type": "stream",
     "text": [
      "is_unitary: True\n"
     ]
    },
    {
     "data": {
      "image/png": "[encoded data removed]",
      "text/plain": [
       "<Figure size 454.517x284.278 with 1 Axes>"
      ]
     },
     "execution_count": 3,
     "metadata": {},
     "output_type": "execute_result"
    }
   ],
   "source": [
    "# Build a 2-qubit operator from Pauli and add it to a circuit\n",
    "op_xz = Operator(Pauli(\"XZ\"))\n",
    "print(\"is_unitary:\", op_xz.is_unitary())\n",
    "\n",
    "qc2 = QuantumCircuit(2,2)\n",
    "qc2.append(op_xz, [0,1])\n",
    "qc2.measure([0,1],[0,1])\n",
    "qc2.draw(\"mpl\")"
   ]
  },
  {
   "cell_type": "markdown",
   "id": "ce6de126",
   "metadata": {},
   "source": [
    "## 4) Combining Operators\n",
    "### 4.1 Tensor vs Expand\n",
    "`A.tensor(B)` places **B** on subsystem 0, **A** on subsystem 1.\n",
    "`A.expand(B)` is the reverse: **A** on subsystem 0, **B** on subsystem 1."
   ]
  },
  {
   "cell_type": "code",
   "execution_count": 4,
   "id": "e166a423",
   "metadata": {},
   "outputs": [
    {
     "name": "stdout",
     "output_type": "stream",
     "text": [
      "tensor dims: (2, 2)  expand dims: (2, 2)\n"
     ]
    }
   ],
   "source": [
    "A = Operator(Pauli(\"X\"))\n",
    "B = Operator(Pauli(\"Z\"))\n",
    "\n",
    "ten = A.tensor(B)   # B on qubit 0, A on qubit 1\n",
    "exp = A.expand(B)   # A on qubit 0, B on qubit 1\n",
    "print(\"tensor dims:\", ten.input_dims(), \" expand dims:\", exp.input_dims())"
   ]
  },
  {
   "cell_type": "markdown",
   "id": "3cfbbc1d",
   "metadata": {},
   "source": [
    "### 4.2 Composition (matrix multiplication)\n",
    "`A.compose(B)` returns the operator with matrix **B·A** (apply B after A). Set `front=True` for **A·B**."
   ]
  },
  {
   "cell_type": "code",
   "execution_count": 5,
   "id": "0c9fe958",
   "metadata": {},
   "outputs": [
    {
     "name": "stdout",
     "output_type": "stream",
     "text": [
      "compose (post)\n",
      " [[ 0.+0.j  1.+0.j]\n",
      " [-1.+0.j  0.+0.j]]\n",
      "compose (pre)\n",
      " [[ 0.+0.j -1.+0.j]\n",
      " [ 1.+0.j  0.+0.j]]\n"
     ]
    }
   ],
   "source": [
    "Xop = Operator(Pauli(\"X\"))\n",
    "Zop = Operator(Pauli(\"Z\"))\n",
    "post = Xop.compose(Zop)            # Z then X  (matrix Z·X)\n",
    "pre  = Xop.compose(Zop, front=True) # X then Z  (matrix X·Z)\n",
    "print(\"compose (post)\\n\", post.data)\n",
    "print(\"compose (pre)\\n\", pre.data)"
   ]
  },
  {
   "cell_type": "markdown",
   "id": "45025e3c",
   "metadata": {},
   "source": [
    "### 4.3 Subsystem composition with `qargs`\n",
    "Target a subset of qubits when composing a smaller operator into a larger one."
   ]
  },
  {
   "cell_type": "code",
   "execution_count": 6,
   "id": "1f92ca5e",
   "metadata": {},
   "outputs": [
    {
     "name": "stdout",
     "output_type": "stream",
     "text": [
      "placed input dims: (2, 2, 2)\n"
     ]
    }
   ],
   "source": [
    "# 3-qubit identity, compose a 2-qubit op on (qubits 0 and 2)\n",
    "big = Operator(np.eye(2**3))\n",
    "YI = Operator(Pauli(\"YI\"))\n",
    "placed = big.compose(YI, qargs=[0,2])\n",
    "print(\"placed input dims:\", placed.input_dims())"
   ]
  },
  {
   "cell_type": "markdown",
   "id": "1ed7c1a7",
   "metadata": {},
   "source": [
    "## 5) Linear combinations & unitarity\n",
    "Linear combinations generally **break unitarity**. Useful for building observables or maps (not gates)."
   ]
  },
  {
   "cell_type": "code",
   "execution_count": 7,
   "id": "af738084",
   "metadata": {},
   "outputs": [
    {
     "name": "stdout",
     "output_type": "stream",
     "text": [
      "Hermitian? True\n",
      "Unitary?   False\n"
     ]
    }
   ],
   "source": [
    "XX = Operator(Pauli(\"XX\"))\n",
    "YY = Operator(Pauli(\"YY\"))\n",
    "ZZ = Operator(Pauli(\"ZZ\"))\n",
    "\n",
    "H_like = 0.25*XX + 0.25*YY + 0.6*ZZ  # Hermitian combo\n",
    "print(\"Hermitian?\", np.allclose(H_like.data, H_like.data.conj().T))\n",
    "print(\"Unitary?  \", H_like.is_unitary())"
   ]
  },
  {
   "cell_type": "markdown",
   "id": "6230576e",
   "metadata": {},
   "source": [
    "## 6) Implicit conversion\n",
    "Many `Operator` methods accept raw matrices/lists and convert implicitly."
   ]
  },
  {
   "cell_type": "code",
   "execution_count": 8,
   "id": "4d3a7b38",
   "metadata": {},
   "outputs": [
    {
     "name": "stdout",
     "output_type": "stream",
     "text": [
      "[[0.+0.j 1.+0.j]\n",
      " [1.+0.j 0.+0.j]]\n"
     ]
    }
   ],
   "source": [
    "res = Operator(np.eye(2)).compose([[0,1],[1,0]])  # compose with X matrix directly\n",
    "print(res.data)"
   ]
  },
  {
   "cell_type": "markdown",
   "id": "bd020d4e",
   "metadata": {},
   "source": [
    "## 7) Comparing operators\n",
    "- `==` compares elementwise (global phase **counts** as different).\n",
    "- `process_fidelity` ignores global phase for unitaries/channels."
   ]
  },
  {
   "cell_type": "code",
   "execution_count": 9,
   "id": "06218a85",
   "metadata": {},
   "outputs": [
    {
     "name": "stdout",
     "output_type": "stream",
     "text": [
      "Equal with phase? False\n",
      "Process fidelity: 1.0\n"
     ]
    }
   ],
   "source": [
    "op_x = Operator(XGate())\n",
    "op_x_phase = np.exp(1j*0.37) * op_x\n",
    "print(\"Equal with phase?\", op_x == op_x_phase)\n",
    "print(\"Process fidelity:\", process_fidelity(op_x, op_x_phase))"
   ]
  },
  {
   "cell_type": "markdown",
   "id": "dbc3ceca",
   "metadata": {},
   "source": [
    "## 8) Mini‑exercise\n",
    "**Task.**\n",
    "1) Build a 3‑qubit operator `W` that applies `X` on qubit 2 and `Z` on qubit 0 (identity on qubit 1), using **one** `compose(..., qargs=...)` call.\n",
    "2) Verify `W` equals `Operator(Pauli(\"XIZ\")).expand(Operator(np.eye(2)))` up to exact equality.\n",
    "\n",
    "<details>\n",
    "<summary><b>Show solution</b></summary>\n",
    "\n",
    "```python\n",
    "W = Operator(np.eye(2**3))\n",
    "XZ_local = Operator(Pauli(\"XZ\"))   # acts on a 2-qubit slice we will map to (0,2)\n",
    "W = W.compose(XZ_local, qargs=[0,2])\n",
    "\n",
    "# Build a reference by explicit tensor layout: (qubit order 0,1,2)\n",
    "ref = Operator(Pauli(\"XIZ\"))\n",
    "print(np.allclose(W.data, ref.data))\n",
    "```\n",
    "\n",
    "</details>"
   ]
  },
  {
   "cell_type": "markdown",
   "id": "edb71e3b",
   "metadata": {},
   "source": [
    "## Additional information\n",
    "\n",
    "**Created by:** Ricard Santiago Raigada García\n",
    "\n",
    "**Version:** 1.0.0"
   ]
  }
 ],
 "metadata": {
  "kernelspec": {
   "display_name": "Python (qiskit)",
   "language": "python",
   "name": "qiskit"
  },
  "language_info": {
   "codemirror_mode": {
    "name": "ipython",
    "version": 3
   },
   "file_extension": ".py",
   "mimetype": "text/x-python",
   "name": "python",
   "nbconvert_exporter": "python",
   "pygments_lexer": "ipython3",
   "version": "3.11.13"
  }
 },
 "nbformat": 4,
 "nbformat_minor": 5
}
