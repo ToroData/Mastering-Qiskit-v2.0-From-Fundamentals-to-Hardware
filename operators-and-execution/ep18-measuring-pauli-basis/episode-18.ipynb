{
 "cells": [
  {
   "cell_type": "markdown",
   "id": "fffda93a",
   "metadata": {},
   "source": [
    "# Episode 18 — Measuring Observables in the Pauli Basis\n",
    "\n",
    "In Qiskit, operators are the building blocks for observables, Hamiltonians, and linear maps.\n",
    "In this notebook you will:\n",
    "\n",
    "- Build sparse observables with `SparsePauliOp` and operate on them.\n",
    "- Work with single-string Paulis via `Pauli`.\n",
    "- Use dense `Operator` objects when full matrices are needed.\n",
    "- Convert matrices to Pauli sums.\n",
    "- Measure in different Pauli bases (manual basis-change vs. Estimator).\n",
    "\n",
    "**Qiskit v2.0+** is assumed."
   ]
  },
  {
   "cell_type": "code",
   "execution_count": 25,
   "id": "784f938c",
   "metadata": {},
   "outputs": [],
   "source": [
    "import numpy as np\n",
    "from qiskit.quantum_info import SparsePauliOp, Pauli, Operator, Statevector\n",
    "from qiskit.circuit import QuantumCircuit\n",
    "from qiskit_aer.primitives import Estimator"
   ]
  },
  {
   "cell_type": "markdown",
   "id": "0c10506d",
   "metadata": {},
   "source": [
    "## 1) SparsePauliOp — efficient sums of Pauli strings\n",
    "\n",
    "`SparsePauliOp` is ideal for large operators (e.g., Hamiltonians). You specify only the non-zero Pauli terms.\n",
    "\n",
    "Below we build a small 4‑qubit Ising-like model on a line with local X fields:"
   ]
  },
  {
   "cell_type": "code",
   "execution_count": 26,
   "id": "4d7a5509",
   "metadata": {},
   "outputs": [
    {
     "name": "stdout",
     "output_type": "stream",
     "text": [
      "SparsePauliOp(['IIZZ', 'IZZI', 'ZZII', 'IIIX', 'IIXI', 'IXII', 'XIII'],\n",
      "              coeffs=[ 1. +0.j,  1. +0.j,  1. +0.j, -0.3+0.j, -0.3+0.j, -0.3+0.j, -0.3+0.j])\n"
     ]
    }
   ],
   "source": [
    "n = 4\n",
    "couplings = [(\"ZZ\", [i, i+1], 1.0) for i in range(n-1)]  # nearest-neighbor ZZ\n",
    "x_field  = [(\"X\",  [i],      -0.3) for i in range(n)]    # local -0.3 * X_i\n",
    "\n",
    "H = SparsePauliOp.from_sparse_list(couplings + x_field, num_qubits=n)\n",
    "print(H)"
   ]
  },
  {
   "cell_type": "markdown",
   "id": "79f03324",
   "metadata": {},
   "source": [
    "Basic algebra works as you expect: addition, scalar multiplication, composition (`@`), and tensor product."
   ]
  },
  {
   "cell_type": "code",
   "execution_count": 27,
   "id": "378d87dc",
   "metadata": {},
   "outputs": [
    {
     "name": "stdout",
     "output_type": "stream",
     "text": [
      "H + Hx:\n",
      " SparsePauliOp(['IIZZ', 'IZZI', 'ZZII', 'IIIX', 'IIXI', 'IXII', 'XIII', 'IIIX'],\n",
      "              coeffs=[ 1.  +0.j,  1.  +0.j,  1.  +0.j, -0.3 +0.j, -0.3 +0.j, -0.3 +0.j,\n",
      " -0.3 +0.j,  0.75+0.j])\n",
      "\n",
      "2 * H (scale):\n",
      " SparsePauliOp(['IIZZ', 'IZZI', 'ZZII', 'IIIX', 'IIXI', 'IXII', 'XIII'],\n",
      "              coeffs=[ 2. +0.j,  2. +0.j,  2. +0.j, -0.6+0.j, -0.6+0.j, -0.6+0.j, -0.6+0.j])\n",
      "\n",
      "H @ H terms: 49\n",
      "\n",
      "H ⊗ Z (qubits=5): terms= 7\n"
     ]
    }
   ],
   "source": [
    "Hx = SparsePauliOp.from_sparse_list([(\"X\", [0], 0.75)], num_qubits=n)\n",
    "print(\"H + Hx:\\n\", H + Hx)\n",
    "print(\"\\n2 * H (scale):\\n\", 2 * H)\n",
    "\n",
    "# Composition (matrix multiplication). For Hermitian sums this may not remain Hermitian in general.\n",
    "HH = H @ H\n",
    "print(\"\\nH @ H terms:\", len(HH.paulis))\n",
    "\n",
    "# Tensor with a single-qubit Z on an extra wire to get a 5-qubit operator\n",
    "Z5 = SparsePauliOp.from_sparse_list([(\"Z\", [0], 1.0)], num_qubits=1)\n",
    "H_big = H.tensor(Z5)\n",
    "print(\"\\nH ⊗ Z (qubits=5): terms=\", len(H_big.paulis))"
   ]
  },
  {
   "cell_type": "markdown",
   "id": "fe7062f8",
   "metadata": {},
   "source": [
    "## 2) Pauli — single strings (with optional phase)\n",
    "\n",
    "`Pauli` represents a single Pauli word (e.g., `\"-iXZ\"`). Useful for building blocks and quick checks."
   ]
  },
  {
   "cell_type": "code",
   "execution_count": 28,
   "id": "6b67b7b9",
   "metadata": {},
   "outputs": [
    {
     "name": "stdout",
     "output_type": "stream",
     "text": [
      "Pauli: -iXZ\n",
      "Matrix:\n",
      " [[0.+0.j 0.+0.j 0.-1.j 0.+0.j]\n",
      " [0.+0.j 0.+0.j 0.+0.j 0.+1.j]\n",
      " [0.-1.j 0.+0.j 0.+0.j 0.+0.j]\n",
      " [0.+0.j 0.+1.j 0.+0.j 0.+0.j]]\n",
      "Number of qubits: 2\n",
      "Commutation sign with XI: 1\n"
     ]
    }
   ],
   "source": [
    "p = Pauli(\"-iXZ\")   # 2 qubits\n",
    "q = Pauli(\"XI\")     # 2 qubits (antes era \"XIZ\" -> 3 qubits)\n",
    "\n",
    "def commute_sign(a: Pauli, b: Pauli) -> int:\n",
    "    if a.num_qubits != b.num_qubits:\n",
    "        raise ValueError(\"Both Paulis must act on the same number of qubits.\")\n",
    "    A, B = a.to_matrix(), b.to_matrix()\n",
    "    return 1 if np.allclose(A @ B, B @ A) else -1\n",
    "\n",
    "print(\"Pauli:\", p)\n",
    "print(\"Matrix:\\n\", p.to_matrix())\n",
    "print(\"Number of qubits:\", p.num_qubits)\n",
    "print(\"Commutation sign with XI:\", commute_sign(p, q))\n"
   ]
  },
  {
   "cell_type": "markdown",
   "id": "4ff730f0",
   "metadata": {},
   "source": [
    "## 3) Operator — dense matrices when you need them\n",
    "\n",
    "`Operator` stores a full matrix. Use it for few-qubit exact maps, custom gates, or when dense math is simpler."
   ]
  },
  {
   "cell_type": "code",
   "execution_count": 8,
   "id": "a60f4f0b",
   "metadata": {},
   "outputs": [
    {
     "name": "stdout",
     "output_type": "stream",
     "text": [
      "Operator([[0.+0.j, 1.+0.j, 0.+0.j, 0.+0.j],\n",
      "          [1.+0.j, 0.+0.j, 0.+0.j, 0.+0.j],\n",
      "          [0.+0.j, 0.+0.j, 0.+0.j, 1.+0.j],\n",
      "          [0.+0.j, 0.+0.j, 1.+0.j, 0.+0.j]],\n",
      "         input_dims=(2, 2), output_dims=(2, 2))\n",
      "Dense matrix shape: (4, 4)\n",
      "Input dims: (2, 2) , Output dims: (2, 2)\n"
     ]
    }
   ],
   "source": [
    "# Build a 2-qubit custom operator (swap-like variant)\n",
    "M = np.array([\n",
    "    [0, 1, 0, 0],\n",
    "    [1, 0, 0, 0],\n",
    "    [0, 0, 0, 1],\n",
    "    [0, 0, 1, 0]\n",
    "], dtype=complex)\n",
    "O = Operator(M)\n",
    "print(O)\n",
    "print(\"Dense matrix shape:\", O.data.shape)\n",
    "print(\"Input dims:\", O.input_dims(), \", Output dims:\", O.output_dims())"
   ]
  },
  {
   "cell_type": "markdown",
   "id": "b5667847",
   "metadata": {},
   "source": [
    "## 4) From matrix to Pauli expansion\n",
    "\n",
    "Any Hermitian observable can be expressed as a real linear combination of tensor products of I, X, Y, Z.\n",
    "You can expand a matrix into the Pauli basis via `SparsePauliOp.from_operator(...)`."
   ]
  },
  {
   "cell_type": "code",
   "execution_count": 9,
   "id": "f7b18dff",
   "metadata": {},
   "outputs": [
    {
     "name": "stdout",
     "output_type": "stream",
     "text": [
      "SparsePauliOp(['II', 'IZ', 'XI', 'XX', 'XZ', 'ZI', 'ZZ'],\n",
      "              coeffs=[ 0.325+0.j, -0.425+0.j,  0.05 +0.j,  0.1  +0.j,  0.25 +0.j,  0.075+0.j,\n",
      "  0.225+0.j])\n",
      "Close to original? True\n"
     ]
    }
   ],
   "source": [
    "A = np.array([\n",
    "    [ 0.2,  0.0,  0.3,  0.1],\n",
    "    [ 0.0,  0.6,  0.1, -0.2],\n",
    "    [ 0.3,  0.1, -0.4,  0.0],\n",
    "    [ 0.1, -0.2,  0.0,  0.9]\n",
    "], dtype=complex)\n",
    "Obs = SparsePauliOp.from_operator(A)\n",
    "print(Obs)\n",
    "\n",
    "# Sanity check: convert back to dense and compare\n",
    "dense_from_paulis = Obs.to_operator().data\n",
    "print(\"Close to original?\", np.allclose(dense_from_paulis, A))"
   ]
  },
  {
   "cell_type": "markdown",
   "id": "adfc6af9",
   "metadata": {},
   "source": [
    "## 5) Expectation values — manual vs. Estimator\n",
    "\n",
    "For noiseless demos, we can compute expectation values against a statevector. For runtime/backends, prefer `Estimator`.\n",
    "\n",
    "**Be mindful of bit ordering**: Qiskit labels rightmost bit as qubit 0 in bitstrings."
   ]
  },
  {
   "cell_type": "code",
   "execution_count": 17,
   "id": "5ad4882e",
   "metadata": {},
   "outputs": [
    {
     "name": "stdout",
     "output_type": "stream",
     "text": [
      "<H> on |+...+>: -1.199999999999999\n",
      "Estimator <H>: -1.1453125\n"
     ]
    }
   ],
   "source": [
    "# Manual: prepare a small state and compute <H>\n",
    "qc = QuantumCircuit(n)\n",
    "qc.h(range(n))\n",
    "psi = Statevector.from_instruction(qc)\n",
    "expect_manual = psi.expectation_value(H.to_operator())\n",
    "print(\"<H> on |+...+>:\", float(np.real(expect_manual)))\n",
    "\n",
    "# With Estimator on the same state-prep circuit\n",
    "est = Estimator()\n",
    "job = est.run(circuits=[qc], observables=[H])\n",
    "ev = job.result().values[0]\n",
    "print(\"Estimator <H>:\", float(np.real(ev)))"
   ]
  },
  {
   "cell_type": "markdown",
   "id": "af7219da",
   "metadata": {},
   "source": [
    "## 6) Measuring in Pauli bases\n",
    "\n",
    "Measurement happens in the computational (Z) basis. To measure X or Y, rotate into Z, then measure:\n",
    "- X → Z via H\n",
    "- Y → Z via S^\\dagger then H\n",
    "\n",
    "Below we build a circuit that measures qubit 0 in X, qubit 1 in Y, qubit 2 in Z."
   ]
  },
  {
   "cell_type": "code",
   "execution_count": 19,
   "id": "64c33b10",
   "metadata": {},
   "outputs": [
    {
     "data": {
      "image/png": "[encoded data removed]",
      "text/plain": [
       "<Figure size 789.163x367.889 with 1 Axes>"
      ]
     },
     "execution_count": 19,
     "metadata": {},
     "output_type": "execute_result"
    }
   ],
   "source": [
    "c = QuantumCircuit(3, 3)\n",
    "c.ry(0.7, 0)\n",
    "c.cx(0, 1)\n",
    "c.cx(1, 2)\n",
    "c.barrier()\n",
    "# X-basis on q0\n",
    "c.h(0)\n",
    "# Y-basis on q1\n",
    "c.sdg(1)\n",
    "c.h(1)\n",
    "# Z-basis on q2 (no change)\n",
    "c.measure([0,1,2], [0,1,2])\n",
    "c.draw(\"mpl\")"
   ]
  },
  {
   "cell_type": "markdown",
   "id": "37ad2a48",
   "metadata": {},
   "source": [
    "## 7) Mini-exercise: Build and evaluate an Ising chain\n",
    "\n",
    "Task: Build \n",
    "$$H = \\sum_{i=0}^{m-2} Z_i Z_{i+1} + 0.5 \\sum_{i=0}^{m-1} X_i$$\n",
    "for `m=5` with `SparsePauliOp`, prepare `|+++++⟩`, and compute ⟨H⟩ using `Estimator`.\n",
    "\n",
    "<details>\n",
    "<summary><b>Show solution</b></summary>\n",
    "\n",
    "```python\n",
    "m = 5\n",
    "terms = [(\"ZZ\", [i, i+1], 1.0) for i in range(m-1)] + [(\"X\", [i], 0.5) for i in range(m)]\n",
    "H_ising = SparsePauliOp.from_sparse_list(terms, num_qubits=m)\n",
    "\n",
    "qc_m = QuantumCircuit(m)\n",
    "qc_m.h(range(m))\n",
    "val = Estimator().run([qc_m], [H_ising]).result().values[0]\n",
    "float(np.real(val))\n",
    "```\n",
    "\n",
    "</details>"
   ]
  },
  {
   "cell_type": "markdown",
   "id": "0683ca3e",
   "metadata": {},
   "source": [
    "## 8) Cheat‑sheet\n",
    "\n",
    "- **SparsePauliOp**: efficient for big observables; supports algebra and conversion to dense via `.to_operator()`.\n",
    "- **Pauli**: single string, quick inspections and sanity checks.\n",
    "- **Operator**: dense matrices for few‑qubit exact maps; use sparingly as size grows fast.\n",
    "- **Estimators** handle basis changes under the hood when evaluating expectation values."
   ]
  },
  {
   "cell_type": "markdown",
   "id": "a881edf6",
   "metadata": {},
   "source": [
    "## Additional information\n",
    "\n",
    "**Created by:** Ricard Santiago Raigada García\n",
    "\n",
    "**Version:** 1.0.0"
   ]
  }
 ],
 "metadata": {
  "kernelspec": {
   "display_name": "Python (qiskit)",
   "language": "python",
   "name": "qiskit"
  },
  "language_info": {
   "codemirror_mode": {
    "name": "ipython",
    "version": 3
   },
   "file_extension": ".py",
   "mimetype": "text/x-python",
   "name": "python",
   "nbconvert_exporter": "python",
   "pygments_lexer": "ipython3",
   "version": "3.11.13"
  }
 },
 "nbformat": 4,
 "nbformat_minor": 5
}
