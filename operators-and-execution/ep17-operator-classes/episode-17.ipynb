{
 "cells": [
  {
   "cell_type": "markdown",
   "id": "df29a470",
   "metadata": {},
   "source": [
    "# Episode 17 — Exploring Operator Classes and Their Applications\n",
    "\n",
    "Qiskit v2.0 focuses operator work primarily in `qiskit.quantum_info`. In this lesson you’ll learn when to use:\n",
    "\n",
    "- **`SparsePauliOp`**: sparse linear combinations of Pauli strings (great for observables and many physics Hamiltonians).\n",
    "- **`Pauli`**: single Pauli string with an optional global phase.\n",
    "- **`Operator`**: dense linear operators (best for a *few* qubits or when you really need the matrix).\n",
    "\n",
    "We’ll build operators, manipulate them algebraically, convert among types, and compute basic expectation values."
   ]
  },
  {
   "cell_type": "code",
   "execution_count": 3,
   "id": "e945354a",
   "metadata": {},
   "outputs": [],
   "source": [
    "import numpy as np\n",
    "from qiskit.quantum_info import Statevector\n",
    "from qiskit.quantum_info.operators import Operator, Pauli, SparsePauliOp"
   ]
  },
  {
   "cell_type": "markdown",
   "id": "17a7697b",
   "metadata": {},
   "source": [
    "## 1) Building `SparsePauliOp`\n",
    "\n",
    "`SparsePauliOp` encodes a sum of Pauli strings. Use it for observables/Hamiltonians—fast, memory-friendly, and composable."
   ]
  },
  {
   "cell_type": "code",
   "execution_count": 4,
   "id": "dc632f29",
   "metadata": {},
   "outputs": [
    {
     "name": "stdout",
     "output_type": "stream",
     "text": [
      "SparsePauliOp(['IZZ', 'XXI', 'IIY'],\n",
      "              coeffs=[0.7+0.j , 0. -0.4j, 0.2+0.j ])\n"
     ]
    }
   ],
   "source": [
    "# 3-qubit example: H = 0.7 * Z(0)Z(1)  -  0.4i * X(1)X(2)  +  0.2 * Y(0)\n",
    "# We place substrings on target indices; unspecified qubits become I.\n",
    "H = SparsePauliOp.from_sparse_list([\n",
    "    (\"ZZ\", [0, 1], 0.7),\n",
    "    (\"XX\", [1, 2], -0.4j),\n",
    "    (\"Y\",  [0],    0.2),\n",
    "], num_qubits=3)\n",
    "print(H)"
   ]
  },
  {
   "cell_type": "markdown",
   "id": "fd8c0c57",
   "metadata": {},
   "source": [
    "### Algebra with `SparsePauliOp`\n",
    "- Addition and scalar multiplication\n",
    "- Composition (matrix product) and tensor product\n",
    "- Convert to a dense `Operator` when needed"
   ]
  },
  {
   "cell_type": "code",
   "execution_count": 5,
   "id": "69840cdd",
   "metadata": {},
   "outputs": [
    {
     "name": "stdout",
     "output_type": "stream",
     "text": [
      "H + G:\n",
      " SparsePauliOp(['IZZ', 'XXI', 'IIY', 'ZII', 'IYX'],\n",
      "              coeffs=[ 0.7 +0.j ,  0.  -0.4j,  0.2 +0.j ,  1.  +0.j , -0.25+0.j ])\n",
      "\n",
      "2 * H:\n",
      " SparsePauliOp(['IZZ', 'XXI', 'IIY'],\n",
      "              coeffs=[1.4+0.j , 0. -0.8j, 0.4+0.j ])\n",
      "\n",
      "Composition H @ G (same qubits):\n",
      " SparsePauliOp(['ZZZ', 'IXY', 'YXI', 'XZX', 'ZIY', 'IYZ'],\n",
      "              coeffs=[ 0.7  +0.j  , -0.175+0.j  , -0.4  +0.j  , -0.1  +0.j  ,  0.2  +0.j  ,\n",
      "  0.   +0.05j])\n",
      "\n",
      "Tensor: H ⊗ Z (extra ancilla qubit)\n",
      "\n",
      "SparsePauliOp(['IZZZ', 'XXIZ', 'IIYZ'],\n",
      "              coeffs=[0.7+0.j , 0. -0.4j, 0.2+0.j ])\n",
      "\n",
      "Dense matrix shape: (8, 8)\n"
     ]
    }
   ],
   "source": [
    "G = SparsePauliOp.from_sparse_list([\n",
    "    (\"Z\", [2], 1.0),\n",
    "    (\"XY\", [0, 1], -0.25)\n",
    "], num_qubits=3)\n",
    "\n",
    "print(\"H + G:\\n\", H + G)\n",
    "print(\"\\n2 * H:\\n\", 2 * H)\n",
    "\n",
    "print(\"\\nComposition H @ G (same qubits):\\n\", H @ G)\n",
    "\n",
    "print(\"\\nTensor: H ⊗ Z (extra ancilla qubit)\\n\")\n",
    "Z1 = SparsePauliOp.from_sparse_list([(\"Z\", [0], 1.0)], num_qubits=1)\n",
    "print(H.tensor(Z1))\n",
    "\n",
    "# Dense view (for small systems):\n",
    "H_dense = H.to_operator()\n",
    "print(\"\\nDense matrix shape:\", H_dense.data.shape)"
   ]
  },
  {
   "cell_type": "markdown",
   "id": "a135de67",
   "metadata": {},
   "source": [
    "## 2) Expectation values with `SparsePauliOp`\n",
    "Use a statevector for noiseless demos. Convert `SparsePauliOp` to `Operator` on demand, then evaluate."
   ]
  },
  {
   "cell_type": "code",
   "execution_count": 6,
   "id": "d95ac0c5",
   "metadata": {},
   "outputs": [
    {
     "name": "stdout",
     "output_type": "stream",
     "text": [
      "⟨H⟩ on |0++> = 0j\n"
     ]
    }
   ],
   "source": [
    "# |psi> = |+ + 0> for 3 qubits\n",
    "psi = Statevector.from_label(\"0++\")  # Qiskit reads left->right: qubit2, qubit1, qubit0\n",
    "exp_val = psi.expectation_value(H.to_operator())\n",
    "print(\"⟨H⟩ on |0++> =\", complex(exp_val))"
   ]
  },
  {
   "cell_type": "markdown",
   "id": "929c4f29",
   "metadata": {},
   "source": [
    "## 3) `Pauli` strings\n",
    "`Pauli` is a single string with optional global phase. Handy for low-level checks or quick matrices."
   ]
  },
  {
   "cell_type": "code",
   "execution_count": 7,
   "id": "23682f0f",
   "metadata": {},
   "outputs": [
    {
     "name": "stdout",
     "output_type": "stream",
     "text": [
      "pauli: -iYZ\n",
      "dim: (4, 4)\n",
      "phase (0:+1,1:+i,2:-1,3:-i): 1\n",
      "matrix:\n",
      " [[ 0.+0.j  0.+0.j -1.+0.j  0.+0.j]\n",
      " [ 0.+0.j  0.+0.j  0.+0.j  1.-0.j]\n",
      " [ 1.-0.j  0.+0.j  0.+0.j  0.+0.j]\n",
      " [ 0.+0.j -1.+0.j  0.+0.j  0.+0.j]]\n",
      "\n",
      "Adjoint equals inverse (unitary): True\n",
      "\n",
      "As SparsePauliOp: SparsePauliOp(['YZ'],\n",
      "              coeffs=[0.-1.j])\n"
     ]
    }
   ],
   "source": [
    "p = Pauli(\"-iYZ\")  # 2-qubit operator with a -i phase on Y⊗Z\n",
    "print(\"pauli:\", p)\n",
    "print(\"dim:\", p.dim)\n",
    "print(\"phase (0:+1,1:+i,2:-1,3:-i):\", p.phase)\n",
    "print(\"matrix:\\n\", p.to_matrix())\n",
    "\n",
    "# Adjoint and simple composition\n",
    "p_dag = p.adjoint()\n",
    "print(\"\\nAdjoint equals inverse (unitary):\", np.allclose(p.to_matrix() @ p_dag.to_matrix(), np.eye(4)))\n",
    "\n",
    "# Convert a single Pauli to SparsePauliOp and back\n",
    "p_op = SparsePauliOp.from_list([(str(p), 1.0)])\n",
    "print(\"\\nAs SparsePauliOp:\", p_op)"
   ]
  },
  {
   "cell_type": "markdown",
   "id": "bd9f2397",
   "metadata": {},
   "source": [
    "## 4) Dense `Operator`\n",
    "Use `Operator` when you already have (or truly need) a dense matrix. Keep in mind the exponential cost."
   ]
  },
  {
   "cell_type": "code",
   "execution_count": 8,
   "id": "4d289f8a",
   "metadata": {},
   "outputs": [
    {
     "name": "stdout",
     "output_type": "stream",
     "text": [
      "Operator([[0.+0.j, 1.+0.j, 0.+0.j, 0.+0.j],\n",
      "          [1.+0.j, 0.+0.j, 0.+0.j, 0.+0.j],\n",
      "          [0.+0.j, 0.+0.j, 0.+0.j, 1.+0.j],\n",
      "          [0.+0.j, 0.+0.j, 1.+0.j, 0.+0.j]],\n",
      "         input_dims=(2, 2), output_dims=(2, 2))\n",
      "data shape: (4, 4)\n",
      "input_dims: (2, 2) output_dims: (2, 2)\n",
      "\n",
      "Roundtrip equal: True\n"
     ]
    }
   ],
   "source": [
    "# Build a 2-qubit dense operator and inspect dims\n",
    "mat = np.array([\n",
    "    [0, 1, 0, 0],\n",
    "    [1, 0, 0, 0],\n",
    "    [0, 0, 0, 1],\n",
    "    [0, 0, 1, 0]\n",
    "], dtype=complex)\n",
    "O = Operator(mat)\n",
    "print(O)\n",
    "print(\"data shape:\", O.data.shape)\n",
    "print(\"input_dims:\", O.input_dims(), \"output_dims:\", O.output_dims())\n",
    "\n",
    "# Type conversions\n",
    "O_as_sparse = SparsePauliOp.from_operator(O)\n",
    "O_roundtrip = Operator(O_as_sparse)\n",
    "print(\"\\nRoundtrip equal:\", np.allclose(O.data, O_roundtrip.data))"
   ]
  },
  {
   "cell_type": "markdown",
   "id": "34ae553d",
   "metadata": {},
   "source": [
    "## 5) Mini‑exercise — Build an Ising‑ZZ Hamiltonian (3 qubits)\n",
    "**Task:** Construct \n",
    "$H = \\sum_{i=0}^{1} Z_i Z_{i+1} + 0.3\\,X_1$ as a `SparsePauliOp` and compute $\\langle H \\rangle$ on $|+ + +\\rangle$.\n",
    "\n",
    "Hint: use `from_sparse_list` with appropriate qubit indices. Then convert to `Operator` for the expectation value with a `Statevector`."
   ]
  },
  {
   "cell_type": "code",
   "execution_count": null,
   "id": "310b61c3",
   "metadata": {},
   "outputs": [],
   "source": [
    "# Your attempt here\n",
    "from math import sqrt\n",
    "\n",
    "# TODO: build H_ising and compute exp_val_ising\n",
    "pass"
   ]
  },
  {
   "cell_type": "markdown",
   "id": "51e01a1d",
   "metadata": {
    "tags": []
   },
   "source": [
    "<details>\n",
    "<summary><b>Show solution</b></summary>\n",
    "\n",
    "```python\n",
    "H_ising = SparsePauliOp.from_sparse_list([\n",
    "    (\"ZZ\", [0, 1], 1.0),\n",
    "    (\"ZZ\", [1, 2], 1.0),\n",
    "    (\"X\",  [1],    0.3),\n",
    "], num_qubits=3)\n",
    "\n",
    "psi_plus = Statevector.from_label(\"+++\")\n",
    "exp_val_ising = psi_plus.expectation_value(H_ising.to_operator())\n",
    "exp_val_ising\n",
    "```\n",
    "\n",
    "</details>"
   ]
  },
  {
   "cell_type": "markdown",
   "id": "c61eb1dd",
   "metadata": {},
   "source": [
    "## 6) Sanity check — two constructions, one operator\n",
    "Verify that building a simple $XX$ term via `Pauli` vs. `SparsePauliOp` yields the same dense matrix."
   ]
  },
  {
   "cell_type": "code",
   "execution_count": 11,
   "id": "90ce45cf",
   "metadata": {},
   "outputs": [
    {
     "name": "stdout",
     "output_type": "stream",
     "text": [
      "Equivalent dense operators: True\n"
     ]
    }
   ],
   "source": [
    "xx_sparse = SparsePauliOp.from_sparse_list([(\"XX\", [0,1], 1.0)], num_qubits=2)\n",
    "xx_pauli  = Pauli(\"XX\")\n",
    "eq = np.allclose(xx_sparse.to_operator().data, Operator(xx_pauli).data)\n",
    "print(\"Equivalent dense operators:\", eq)"
   ]
  },
  {
   "cell_type": "markdown",
   "id": "ebad256c",
   "metadata": {},
   "source": [
    "### Key takeaways\n",
    "- Prefer **`SparsePauliOp`** for observables and Hamiltonians.\n",
    "- Use **`Pauli`** for single strings, low-level algebra, or generating small test matrices.\n",
    "- Fall back to **`Operator`** when you truly need dense matrices (few qubits)."
   ]
  },
  {
   "cell_type": "markdown",
   "id": "e5016ce4",
   "metadata": {},
   "source": [
    "## Additional information\n",
    "\n",
    "**Created by:** Ricard Santiago Raigada García\n",
    "\n",
    "**Version:** 1.0.0"
   ]
  }
 ],
 "metadata": {
  "kernelspec": {
   "display_name": "Python (qiskit)",
   "language": "python",
   "name": "qiskit"
  },
  "language_info": {
   "codemirror_mode": {
    "name": "ipython",
    "version": 3
   },
   "file_extension": ".py",
   "mimetype": "text/x-python",
   "name": "python",
   "nbconvert_exporter": "python",
   "pygments_lexer": "ipython3",
   "version": "3.11.13"
  }
 },
 "nbformat": 4,
 "nbformat_minor": 5
}
