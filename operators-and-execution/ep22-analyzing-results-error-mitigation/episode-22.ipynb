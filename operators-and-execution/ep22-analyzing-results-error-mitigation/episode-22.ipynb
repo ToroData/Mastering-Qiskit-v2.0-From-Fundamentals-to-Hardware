{
 "cells": [
  {
   "cell_type": "markdown",
   "metadata": {},
   "source": [
    "# Episode 22 — Visualize Results\n",
    "\n",
    "In this notebook you will learn how to visualize quantum execution results with **Qiskit**:\n",
    "\n",
    "- Plot Sampler output distributions with `plot_histogram`.\n",
    "- Make quick bar charts for Estimator expectation values (with error bars).\n",
    "- Save or display figures depending on your environment.\n",
    "\n",
    "> **Prerequisites**: You should have an IBM Quantum account configured for Qiskit Runtime, or switch to a local simulator for testing."
   ]
  },
  {
   "cell_type": "markdown",
   "metadata": {},
   "source": [
    "## Package versions\n",
    "Run the following cell to see the versions of the key packages used by this notebook."
   ]
  },
  {
   "cell_type": "code",
   "execution_count": 1,
   "metadata": {},
   "outputs": [],
   "source": [
    "import sys, qiskit, qiskit_ibm_runtime, matplotlib\n",
    "print(\"Python:\", sys.version.split()[0])\n",
    "print(\"Qiskit:\", qiskit.__version__)\n",
    "print(\"Qiskit IBM Runtime:\", qiskit_ibm_runtime.__version__)\n",
    "print(\"Matplotlib:\", matplotlib.__version__)"
   ]
  },
  {
   "cell_type": "markdown",
   "metadata": {},
   "source": [
    "## 1) Plot a histogram from Sampler results\n",
    "We'll build a simple 2-qubit Bell state, transpile it to the target backend, run it with `SamplerV2`, and plot the measurement histogram."
   ]
  },
  {
   "cell_type": "code",
   "execution_count": null,
   "metadata": {},
   "outputs": [],
   "source": [
    "from qiskit_ibm_runtime import QiskitRuntimeService, SamplerV2 as Sampler\n",
    "from qiskit.transpiler import generate_preset_pass_manager\n",
    "from qiskit.circuit import QuantumCircuit\n",
    "from qiskit.visualization import plot_histogram\n",
    "\n",
    "# Initialize service and pick a backend (real device). For local tests: set simulator=True\n",
    "service = QiskitRuntimeService()\n",
    "backend = service.least_busy(simulator=False, operational=True)\n",
    "print(\"Backend:\", backend.name)\n",
    "\n",
    "# Build Bell state\n",
    "bell = QuantumCircuit(2)\n",
    "bell.h(0)\n",
    "bell.cx(0, 1)\n",
    "bell.measure_all()\n",
    "\n",
    "# Transpile to ISA for the backend\n",
    "pm = generate_preset_pass_manager(backend=backend, optimization_level=1)\n",
    "isa_bell = pm.run(bell)\n",
    "\n",
    "# Run with Sampler\n",
    "sampler = Sampler(mode=backend)\n",
    "job = sampler.run([isa_bell])\n",
    "result = job.result()\n",
    "print(result)\n",
    "\n",
    "# Plot histogram of counts\n",
    "fig = plot_histogram(result[0].data.meas.get_counts())\n",
    "fig"
   ]
  },
  {
   "cell_type": "markdown",
   "metadata": {},
   "source": [
    "### Customize the histogram\n",
    "You can compare multiple runs, sort bars, set figure size, annotate bars, and so on."
   ]
  },
  {
   "cell_type": "code",
   "execution_count": null,
   "metadata": {},
   "outputs": [],
   "source": [
    "# Change default shots for a second run\n",
    "sampler.options.default_shots = 1000\n",
    "job2 = sampler.run([isa_bell])\n",
    "res2 = job2.result()\n",
    "\n",
    "fig2 = plot_histogram(\n",
    "    [\n",
    "        result[0].data.meas.get_counts(),\n",
    "        res2[0].data.meas.get_counts(),\n",
    "    ],\n",
    "    legend=[\"first\", \"second\"],\n",
    "    sort=\"desc\",\n",
    "    figsize=(12, 8),\n",
    "    color=[\"orange\", \"black\"],\n",
    "    bar_labels=False,\n",
    ")\n",
    "fig2"
   ]
  },
  {
   "cell_type": "markdown",
   "metadata": {},
   "source": [
    "### Save or show figures\n",
    "If you're running outside Jupyter, explicitly call `.show()` (for interactive backends) or `.savefig(\"filename.png\")` to write to disk."
   ]
  },
  {
   "cell_type": "code",
   "execution_count": null,
   "metadata": {},
   "outputs": [],
   "source": [
    "# Example: save last histogram to a PNG file\n",
    "timestamp = datetime.utcnow().strftime(\"%Y%m%d_%H%M%S\")\n",
    "outfile = f\"histogram_{timestamp}.png\"\n",
    "fig2.savefig(outfile)\n",
    "print(\"Saved:\", outfile)"
   ]
  },
  {
   "cell_type": "markdown",
   "metadata": {},
   "source": [
    "## 2) Visualize Estimator expectation values\n",
    "Qiskit doesn't include a pre-built plot for Estimator values, but Matplotlib makes this simple. We'll estimate EVs for several Pauli observables and then draw a bar chart with error bars."
   ]
  },
  {
   "cell_type": "code",
   "execution_count": null,
   "metadata": {},
   "outputs": [],
   "source": [
    "import numpy as np\n",
    "from qiskit import QuantumCircuit\n",
    "from qiskit.quantum_info import SparsePauliOp\n",
    "from qiskit_ibm_runtime import EstimatorV2 as Estimator\n",
    "from qiskit.transpiler import generate_preset_pass_manager\n",
    "from matplotlib import pyplot as plt\n",
    "\n",
    "# Prepare a small circuit\n",
    "qc = QuantumCircuit(2)\n",
    "qc.h(0)\n",
    "qc.crx(1.5, 0, 1)\n",
    "\n",
    "labels = [\"ZZ\", \"XX\", \"YZ\", \"ZY\", \"XY\", \"XZ\", \"ZX\"]\n",
    "ops = [SparsePauliOp(lbl) for lbl in labels]\n",
    "\n",
    "pm2 = generate_preset_pass_manager(backend=backend, optimization_level=1)\n",
    "isa_qc = pm2.run(qc)\n",
    "isa_ops = [op.apply_layout(isa_qc.layout) for op in ops]\n",
    "\n",
    "# Reshape so broadcasting matches the primitive input expectations\n",
    "ops_array = np.fromiter(isa_ops, dtype=object).reshape((len(isa_ops), 1))\n",
    "\n",
    "est = Estimator(mode=backend)\n",
    "job_e = est.run([(isa_qc, ops_array)])\n",
    "pub = job_e.result()[0]\n",
    "evs = pub.data.evs.flatten()\n",
    "errs = pub.data.stds.flatten()\n",
    "print(pub)\n",
    "\n",
    "# Bar chart with error bars\n",
    "fig3, ax = plt.subplots()\n",
    "ax.bar(labels, evs, yerr=errs, capsize=2)\n",
    "ax.set_title(\"Expectation values (with standard errors)\")\n",
    "fig3"
   ]
  },
  {
   "cell_type": "markdown",
   "metadata": {},
   "source": [
    "## 3) (Optional) Configure error mitigation for Estimator\n",
    "You can trade off accuracy and runtime by setting `resilience_level` or turning specific mitigation options on/off."
   ]
  },
  {
   "cell_type": "code",
   "execution_count": null,
   "metadata": {},
   "outputs": [],
   "source": [
    "from qiskit_ibm_runtime import EstimatorV2 as Estimator\n",
    "\n",
    "est_mitigated = Estimator(mode=backend, options={\"resilience_level\": 2})\n",
    "job_em = est_mitigated.run([(isa_qc, ops_array)])\n",
    "pub_m = job_em.result()[0]\n",
    "print(\"Mitigated EVs:\", pub_m.data.evs.flatten())"
   ]
  },
  {
   "cell_type": "markdown",
   "id": "4de0c24c",
   "metadata": {},
   "source": [
    "## Additional information\n",
    "\n",
    "**Created by:** Ricard Santiago Raigada García\n",
    "\n",
    "**Version:** 1.0.0"
   ]
  }
 ],
 "metadata": {
  "kernelspec": {
   "display_name": "Python (qiskit)",
   "language": "python",
   "name": "qiskit"
  }
 },
 "nbformat": 4,
 "nbformat_minor": 5
}
