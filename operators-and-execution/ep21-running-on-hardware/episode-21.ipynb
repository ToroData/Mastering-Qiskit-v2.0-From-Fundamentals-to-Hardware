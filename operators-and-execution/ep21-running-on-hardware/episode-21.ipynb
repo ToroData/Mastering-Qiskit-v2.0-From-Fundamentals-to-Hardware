{
 "cells": [
  {
   "cell_type": "markdown",
   "metadata": {},
   "source": [
    "# Episode 21 — Execute on Target Hardware\n",
    "\n",
    "In this notebook you will run optimized ISA circuits on **IBM Quantum** hardware using **Qiskit Runtime primitives**. You will:\n",
    "\n",
    "- Initialize the Runtime service and pick a backend\n",
    "- Build a parametric circuit and a Pauli observable\n",
    "- Transpile to the backend's instruction set (ISA)\n",
    "- Execute with **EstimatorV2** (expectation values)\n",
    "- Execute with **SamplerV2** (shot-based bitstrings)\n"
   ]
  },
  {
   "cell_type": "markdown",
   "metadata": {},
   "source": [
    "## 1) Initialize account and select a backend\n",
    "If you haven't saved your IBM Quantum credentials locally yet, follow the official setup docs first. Then select an operational backend."
   ]
  },
  {
   "cell_type": "code",
   "execution_count": null,
   "metadata": {},
   "outputs": [],
   "source": [
    "from qiskit_ibm_runtime import QiskitRuntimeService\n",
    "\n",
    "# Initialize the Runtime service (uses saved credentials if present)\n",
    "service = QiskitRuntimeService()\n",
    "\n",
    "# Pick a real device (adjust filters as needed)\n",
    "backend = service.least_busy(operational=True, simulator=False, min_num_qubits=127)\n",
    "print(f\"Selected backend: {backend.name}\")"
   ]
  },
  {
   "cell_type": "markdown",
   "metadata": {},
   "source": [
    "## 2) Build a circuit + observable for Estimator\n",
    "We'll create a QAOA-style ansatz and a ZZ observable over the device connectivity graph. The parameter values are placeholders for demonstration."
   ]
  },
  {
   "cell_type": "code",
   "execution_count": null,
   "metadata": {},
   "outputs": [],
   "source": [
    "from qiskit.circuit.library import qaoa_ansatz\n",
    "from qiskit.quantum_info import SparsePauliOp\n",
    "\n",
    "# Build a ZZ observable using the device's coupling map\n",
    "edges = [tuple(edge) for edge in backend.coupling_map.get_edges()]\n",
    "observable = SparsePauliOp.from_sparse_list(\n",
    "    [(\"ZZ\", [i, j], 0.5) for i, j in edges],\n",
    "    num_qubits=backend.num_qubits,\n",
    ")\n",
    "\n",
    "# Create a QAOA-like ansatz from the observable\n",
    "circuit = qaoa_ansatz(observable, reps=2)\n",
    "param_values = [0.1, 0.2, 0.3, 0.4]  # demo values for the ansatz parameters\n",
    "\n",
    "print(\"Circuit qubits:\", circuit.num_qubits)\n",
    "print(\"Params:\", len(circuit.parameters))"
   ]
  },
  {
   "cell_type": "markdown",
   "metadata": {},
   "source": [
    "## 3) Transpile to ISA (device-compatible)\n",
    "This step rewrites the circuit to match the backend's basis gates and connectivity. We'll also map the observable to the transpiled circuit layout."
   ]
  },
  {
   "cell_type": "code",
   "execution_count": null,
   "metadata": {},
   "outputs": [],
   "source": [
    "from qiskit.transpiler import generate_preset_pass_manager\n",
    "\n",
    "pm = generate_preset_pass_manager(optimization_level=1, backend=backend)\n",
    "isa_circuit = pm.run(circuit)\n",
    "isa_observable = observable.apply_layout(isa_circuit.layout)\n",
    "\n",
    "print(\"ISA circuit op counts:\", isa_circuit.count_ops())\n",
    "isa_circuit.draw(\"mpl\")"
   ]
  },
  {
   "cell_type": "markdown",
   "metadata": {},
   "source": [
    "## 4) Execute with EstimatorV2 (expectation values)\n",
    "Estimator computes expectation values of observables with respect to states prepared by your circuit."
   ]
  },
  {
   "cell_type": "code",
   "execution_count": null,
   "metadata": {},
   "outputs": [],
   "source": [
    "from qiskit_ibm_runtime import EstimatorV2 as Estimator\n",
    "\n",
    "estimator = Estimator(mode=backend)\n",
    "job = estimator.run([(isa_circuit, isa_observable, param_values)])\n",
    "print(\"Estimator Job ID:\", job.job_id())\n",
    "\n",
    "result = job.result()\n",
    "print(\"Expectation value:\", result[0].data.evs)\n",
    "print(\"Metadata:\", result[0].metadata)"
   ]
  },
  {
   "cell_type": "markdown",
   "metadata": {},
   "source": [
    "## 5) Execute with SamplerV2 (bitstrings)\n",
    "Sampler returns per-shot measurement outcomes. We'll create a simple variational circuit, measure all qubits, transpile, then run with Sampler."
   ]
  },
  {
   "cell_type": "code",
   "execution_count": null,
   "metadata": {},
   "outputs": [],
   "source": [
    "import numpy as np\n",
    "from qiskit.circuit.library import EfficientSU2\n",
    "from qiskit_ibm_runtime import SamplerV2 as Sampler\n",
    "\n",
    "# Build a measured circuit for sampling\n",
    "sampler_circ = EfficientSU2(backend.num_qubits, entanglement=\"linear\")\n",
    "sampler_circ.measure_all()\n",
    "\n",
    "# Random parameter vector for the variational layers\n",
    "param_vec = np.random.rand(sampler_circ.num_parameters)\n",
    "\n",
    "# Transpile to ISA\n",
    "isa_sampler_circ = pm.run(sampler_circ)\n",
    "\n",
    "sampler = Sampler(mode=backend)\n",
    "job_s = sampler.run([(isa_sampler_circ, param_vec)])\n",
    "print(\"Sampler Job ID:\", job_s.job_id())\n",
    "\n",
    "res_s = job_s.result()\n",
    "bitstrings = res_s[0].data.meas.get_bitstrings()\n",
    "print(\"First 10 bitstrings:\", bitstrings[:10])"
   ]
  },
  {
   "cell_type": "markdown",
   "metadata": {},
   "source": [
    "## 6) (Optional) Tune Runtime options\n",
    "You can set options like resilience level, twirling, or dynamical decoupling. Uncomment and adapt as needed."
   ]
  },
  {
   "cell_type": "code",
   "execution_count": null,
   "metadata": {},
   "outputs": [],
   "source": [
    "# from qiskit_ibm_runtime import EstimatorV2 as Estimator\n",
    "# options = {\n",
    "#     \"resilience_level\": 1,                # 0, 1, or 2\n",
    "#     \"twirling\": {\"enable_measure\": True},\n",
    "#     \"execution\": {\"init_qubits\": True},\n",
    "# }\n",
    "# est_with_opts = Estimator(mode=backend, options=options)\n",
    "# job_opt = est_with_opts.run([(isa_circuit, isa_observable, param_values)])\n",
    "# res_opt = job_opt.result()\n",
    "# print(\"EV (with options):\", res_opt[0].data.evs)"
   ]
  },
  {
   "cell_type": "markdown",
   "metadata": {},
   "source": [
    "## Additional information\n",
    "\n",
    "**Created by:** Ricard Santiago Raigada García\n",
    "\n",
    "**Version:** 1.0.0"
   ]
  }
 ],
 "metadata": {
  "kernelspec": {
   "display_name": "Python 3",
   "language": "python",
   "name": "python3"
  },
  "language_info": {
   "name": "python",
   "version": "3.10"
  }
 },
 "nbformat": 4,
 "nbformat_minor": 2
}
