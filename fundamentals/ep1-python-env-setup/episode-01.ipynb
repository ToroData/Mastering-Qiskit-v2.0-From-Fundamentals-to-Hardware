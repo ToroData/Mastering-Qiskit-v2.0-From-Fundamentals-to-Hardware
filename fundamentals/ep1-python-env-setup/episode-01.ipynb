{
 "cells": [
  {
   "cell_type": "markdown",
   "id": "2dabd799",
   "metadata": {},
   "source": [
    "# Qiskit v2.0 — Ep. 1: Python Environment Setup"
   ]
  },
  {
   "cell_type": "markdown",
   "id": "ec1599a2",
   "metadata": {},
   "source": [
    "## 1) Create a clean Python environment"
   ]
  },
  {
   "cell_type": "markdown",
   "id": "deeaa19c",
   "metadata": {},
   "source": [
    "Run this in your **project directory** (Terminal / PowerShell).  \n",
    "> You don't run this from inside Jupyter.\n"
   ]
  },
  {
   "cell_type": "code",
   "execution_count": null,
   "id": "0a608c8f",
   "metadata": {},
   "outputs": [],
   "source": [
    "# bash / powershell (run OUTSIDE the notebook)\n",
    "# Create a virtual environment named .venv\n",
    "python -m venv .venv"
   ]
  },
  {
   "cell_type": "markdown",
   "id": "429bfb2d",
   "metadata": {},
   "source": [
    "## 2) Activate your environment"
   ]
  },
  {
   "cell_type": "code",
   "execution_count": null,
   "id": "cfb56fba",
   "metadata": {},
   "outputs": [],
   "source": [
    "# PowerShell\n",
    ".venv\\Scripts\\Activate.ps1\n",
    "\n",
    "# CMD\n",
    ".venv\\Scripts\\activate\n",
    "\n",
    "# macOS / Linux\n",
    "source .venv/bin/activate"
   ]
  },
  {
   "cell_type": "markdown",
   "id": "f8d7ede3",
   "metadata": {},
   "source": [
    "## 3) Install Qiskit SDK"
   ]
  },
  {
   "cell_type": "code",
   "execution_count": null,
   "id": "b9dacb91",
   "metadata": {},
   "outputs": [],
   "source": [
    "# With the venv activated, install the SDK\n",
    "%pip install qiskit\n",
    "\n",
    "# Optional: IBM Qiskit Runtime (access to IBM QPUs via IBM Cloud)\n",
    "%pip install qiskit-ibm-runtime"
   ]
  },
  {
   "cell_type": "markdown",
   "id": "eabbc317",
   "metadata": {},
   "source": [
    "## 4) (Optional) Install visualization extras"
   ]
  },
  {
   "cell_type": "code",
   "execution_count": null,
   "id": "8c8f5d0d",
   "metadata": {},
   "outputs": [],
   "source": [
    "# Enables circuit drawings and plots\n",
    "pip install 'qiskit[visualization]'"
   ]
  },
  {
   "cell_type": "markdown",
   "id": "26ba6c65",
   "metadata": {},
   "source": [
    "## 5) Quick sanity check (you can run this cell)"
   ]
  },
  {
   "cell_type": "code",
   "execution_count": null,
   "id": "c8aea85a",
   "metadata": {},
   "outputs": [
    {
     "data": {
      "image/png": "[encoded data removed]",
      "text/plain": [
       "<Figure size 287.294x200.667 with 1 Axes>"
      ]
     },
     "metadata": {},
     "output_type": "display_data"
    },
    {
     "name": "stdout",
     "output_type": "stream",
     "text": [
      "Statevector: Statevector([0.70710678+0.j, 0.        +0.j, 0.        +0.j,\n",
      "             0.70710678+0.j],\n",
      "            dims=(2, 2))\n"
     ]
    }
   ],
   "source": [
    "# This cell can be run inside Jupyter after Qiskit is installed in your venv.\n",
    "# It builds a simple Bell circuit and simulates it.\n",
    "\n",
    "try:\n",
    "    from qiskit import QuantumCircuit\n",
    "    from qiskit.quantum_info import Statevector\n",
    "    from qiskit_aer import Aer\n",
    "    from qiskit.visualization import circuit_drawer\n",
    "    AER_AVAILABLE = True\n",
    "except Exception as e:\n",
    "    AER_AVAILABLE = False\n",
    "    print(\"Qiskit or qiskit-aer not installed in this kernel/environment.\")\n",
    "    print(\"Activate your .venv and install: pip install qiskit qiskit-aer\")\n",
    "    raise e\n",
    "\n",
    "qc = QuantumCircuit(2)\n",
    "qc.h(0)\n",
    "qc.cx(0, 1)\n",
    "\n",
    "display(qc.draw(output='mpl'))\n",
    "\n",
    "if AER_AVAILABLE:\n",
    "    backend = Aer.get_backend('aer_simulator')\n",
    "    qc2 = qc.copy()\n",
    "    qc2.save_statevector()\n",
    "    result = backend.run(qc2).result()\n",
    "    sv = result.get_statevector()\n",
    "    print(\"Statevector:\", sv)\n"
   ]
  },
  {
   "cell_type": "markdown",
   "id": "9a511bd2",
   "metadata": {},
   "source": [
    "## 7) (Optional) IBM Quantum Runtime quickstart"
   ]
  },
  {
   "cell_type": "markdown",
   "id": "d9e60b6d",
   "metadata": {},
   "source": [
    "If you want to run on real IBM QPUs later, you'll need an IBM Cloud account and an API key.\n",
    "You will need a minimum version >=3.10 to ensure compatibility with all the latest Qiskit features."
   ]
  },
  {
   "cell_type": "code",
   "execution_count": 3,
   "id": "f6466a8f",
   "metadata": {},
   "outputs": [
    {
     "name": "stdout",
     "output_type": "stream",
     "text": [
      "3.11.13\n"
     ]
    }
   ],
   "source": [
    "from platform import python_version\n",
    "\n",
    "print(python_version())"
   ]
  },
  {
   "cell_type": "markdown",
   "id": "2aa17b10",
   "metadata": {},
   "source": [
    "Finally, you can run the following code to set up your IBM Cloud account. You'll need to obtain the API Token you generated on the IBM Quantum Platform and CERN after creating an instance.\n",
    "\n",
    "If you're stuck, you can use this tutorial! [IBM Cloud account](https://quantum.cloud.ibm.com/docs/en/guides/cloud-setup)."
   ]
  },
  {
   "cell_type": "code",
   "execution_count": null,
   "id": "3b84eb8d",
   "metadata": {},
   "outputs": [],
   "source": [
    "from qiskit_ibm_runtime import QiskitRuntimeService\n",
    "\n",
    "QiskitRuntimeService.save_account(\n",
    "    channel=\"ibm_quantum_platform\",\n",
    "    token=\"your_api_key\",\n",
    "    instance=\"your_crn\",\n",
    "    name=\"assign_a_name_here\",\n",
    "    overwrite=True\n",
    ")"
   ]
  },
  {
   "cell_type": "code",
   "execution_count": null,
   "id": "61d47f46",
   "metadata": {},
   "outputs": [],
   "source": [
    "# Check that the account has been saved properly\n",
    "service = QiskitRuntimeService(name=\"your_name_assigned_above\")\n",
    "service.saved_accounts()"
   ]
  },
  {
   "cell_type": "markdown",
   "id": "383625db",
   "metadata": {},
   "source": [
    "## You got it!"
   ]
  }
 ],
 "metadata": {
  "kernelspec": {
   "display_name": "Python (qiskit)",
   "language": "python",
   "name": "qiskit"
  },
  "language_info": {
   "codemirror_mode": {
    "name": "ipython",
    "version": 3
   },
   "file_extension": ".py",
   "mimetype": "text/x-python",
   "name": "python",
   "nbconvert_exporter": "python",
   "pygments_lexer": "ipython3",
   "version": "3.11.13"
  }
 },
 "nbformat": 4,
 "nbformat_minor": 5
}
