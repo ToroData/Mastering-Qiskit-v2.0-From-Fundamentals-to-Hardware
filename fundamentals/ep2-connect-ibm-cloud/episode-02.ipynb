{
 "cells": [
  {
   "cell_type": "markdown",
   "metadata": {},
   "source": [
    "# Qiskit v2.0 — Ep. 2: Connect to IBM Quantum with IBM Cloud\n",
    "\n",
    "Run real quantum jobs on IBM QPUs using your IBM Cloud account. This notebook follows the steps from the LinkedIn carousel."
   ]
  },
  {
   "cell_type": "markdown",
   "metadata": {},
   "source": [
    "## 1) IBM Cloud account & IBM Quantum Platform\n",
    "- Create or sign in at **cloud.ibm.com**.\n",
    "- Open **quantum-computing.ibm.com** and sign in.\n",
    "- Create a **Quantum instance** from the dashboard (plan, region, name). Recommended public region: `us-east`."
   ]
  },
  {
   "cell_type": "markdown",
   "metadata": {},
   "source": [
    "## 2) Get your API token & (optional) CRN\n",
    "- From the IBM Quantum dashboard, generate your **API token**.\n",
    "- Optionally note the **CRN / instance name** for scoping.\n",
    "> Keep these secret."
   ]
  },
  {
   "cell_type": "markdown",
   "metadata": {},
   "source": [
    "## 3) Save your IBM Quantum credentials in Qiskit"
   ]
  },
  {
   "cell_type": "markdown",
   "id": "8331ac96",
   "metadata": {},
   "source": [
    "You will need a minimum version >=3.10 to ensure compatibility with all the latest Qiskit features."
   ]
  },
  {
   "cell_type": "code",
   "execution_count": null,
   "id": "4d28eed4",
   "metadata": {},
   "outputs": [],
   "source": [
    "from platform import python_version\n",
    "\n",
    "print(python_version())"
   ]
  },
  {
   "cell_type": "code",
   "execution_count": null,
   "metadata": {},
   "outputs": [],
   "source": [
    "# Run this AFTER `pip install qiskit-ibm-runtime` and after creating your IBM Quantum instance.\n",
    "# It will save credentials into ~/.qiskit/qiskit-ibm.json\n",
    "\n",
    "from qiskit_ibm_runtime import QiskitRuntimeService\n",
    "\n",
    "# Replace with your credentials. Use either instance *name* or full CRN string.\n",
    "QiskitRuntimeService.save_account(\n",
    "    channel=\"ibm_quantum_platform\",\n",
    "    token=\"<YOUR_API_TOKEN>\",\n",
    "    instance=\"<YOUR_INSTANCE_NAME_OR_CRN>\",\n",
    "    name=\"<A_NAME_FOR_YOUR_SERVICE>\",\n",
    "    overwrite=True\n",
    ")\n",
    "\n",
    "print(\"Saved to ~/.qiskit/qiskit-ibm.json\")"
   ]
  },
  {
   "cell_type": "markdown",
   "metadata": {},
   "source": [
    "## 4) Initialize the Runtime service"
   ]
  },
  {
   "cell_type": "code",
   "execution_count": null,
   "metadata": {},
   "outputs": [],
   "source": [
    "# Check that the account has been saved properly\n",
    "service = QiskitRuntimeService(name=\"<YOUR_NAME_ASSIGNED_ABOVE>\")\n",
    "service.saved_accounts()"
   ]
  },
  {
   "cell_type": "markdown",
   "id": "f877c502",
   "metadata": {},
   "source": [
    "## 5) Available Backends"
   ]
  },
  {
   "cell_type": "code",
   "execution_count": null,
   "id": "69c8d0bb",
   "metadata": {},
   "outputs": [],
   "source": [
    "print(service.backends())"
   ]
  },
  {
   "cell_type": "markdown",
   "metadata": {},
   "source": [
    "## 6) Troubleshooting\n",
    "- If you get authentication errors, re-run `QiskitRuntimeService.save_account(...)`.\n",
    "- If you see no backends, ensure the correct **instance** (or CRN) is saved in the account file.\n",
    "- Backend names change. Use `service.backends()` to discover what's available to you."
   ]
  },
  {
   "cell_type": "markdown",
   "id": "360a0ad0",
   "metadata": {},
   "source": [
    "## Additional information\n",
    "\n",
    "**Created by:** Ricard Santiago Raigada García\n",
    "\n",
    "**Version:** 1.0.0"
   ]
  }
 ],
 "metadata": {
  "kernelspec": {
   "display_name": "Python 3",
   "language": "python",
   "name": "python3"
  },
  "language_info": {
   "name": "python",
   "version": ""
  }
 },
 "nbformat": 4,
 "nbformat_minor": 5
}
