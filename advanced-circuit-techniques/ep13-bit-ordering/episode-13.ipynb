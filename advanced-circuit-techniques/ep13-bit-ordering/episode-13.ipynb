{
  "cells": [
    {
      "cell_type": "markdown",
      "id": "1b644997",
      "metadata": {},
      "source": [
        "# Episode 13 — Understanding Qubit and Bit Ordering in Qiskit\n",
        "\n",
        "Correctly interpreting **qubit and bit ordering** is essential to avoid confusion when working with Qiskit. In this episode, we will:\n",
        "- Inspect internal indexing of qubits and classical bits.\n",
        "- Compare visual diagram ordering vs internal indexing.\n",
        "- Understand bit significance when converting results to integers.\n",
        "- Explore statevector ordering.\n",
        "- Control and target conventions for gates.\n",
        "- Reverse ordering intentionally."
      ]
    },
    {
      "cell_type": "markdown",
      "id": "68a727ac",
      "metadata": {},
      "source": [
        "## 1. Internal qubit indexing\n",
        "The `QuantumCircuit` class stores qubits in a list, and their **index** in this list determines their label in code."
      ]
    },
    {
      "cell_type": "code",
      "execution_count": 1,
      "id": "bed00606",
      "metadata": {},
      "outputs": [
        {
          "name": "stdout",
          "output_type": "stream",
          "text": [
            "[<Qubit register=(3, \"q\"), index=0>, <Qubit register=(3, \"q\"), index=1>, <Qubit register=(3, \"q\"), index=2>]\n",
            "Qubit 0 object: <Qubit register=(3, \"q\"), index=0>\n",
            "Qubit 2 object: <Qubit register=(3, \"q\"), index=2>\n"
          ]
        }
      ],
      "source": [
        "from qiskit import QuantumCircuit\n",
        "\n",
        "qc = QuantumCircuit(3)\n",
        "print(qc.qubits)  # Internal list of qubits\n",
        "print(f\"Qubit 0 object: {qc.qubits[0]}\")\n",
        "print(f\"Qubit 2 object: {qc.qubits[2]}\")"
      ]
    },
    {
      "cell_type": "markdown",
      "id": "b9e6b3ea",
      "metadata": {},
      "source": [
        "## 2. Visual ordering in diagrams\n",
        "By default, **qubit 0 is drawn at the top**. This is purely a display convention — it doesn't change the logical order."
      ]
    },
    {
      "cell_type": "code",
      "execution_count": 2,
      "id": "c015baca",
      "metadata": {},
      "outputs": [
        {
          "data": {
            "image/png": "[encoded data removed]",
            "text/plain": [
              "<Figure size 203.885x284.278 with 1 Axes>"
            ]
          },
          "execution_count": 2,
          "metadata": {},
          "output_type": "execute_result"
        }
      ],
      "source": [
        "qc.x(1)  # Apply X to qubit 1\n",
        "qc.draw(output='mpl')"
      ]
    },
    {
      "cell_type": "markdown",
      "id": "e38ef849",
      "metadata": {},
      "source": [
        "## 3. Reverse diagram display order\n",
        "`reverse_bits=True` only flips the visual display order."
      ]
    },
    {
      "cell_type": "code",
      "execution_count": 3,
      "id": "593842f7",
      "metadata": {},
      "outputs": [
        {
          "data": {
            "image/png": "[encoded data removed]",
            "text/plain": [
              "<Figure size 203.885x284.278 with 1 Axes>"
            ]
          },
          "execution_count": 3,
          "metadata": {},
          "output_type": "execute_result"
        }
      ],
      "source": [
        "qc.draw(output='mpl', reverse_bits=True)"
      ]
    },
    {
      "cell_type": "markdown",
      "id": "37a409db",
      "metadata": {},
      "source": [
        "## 4. Bit significance for integers\n",
        "When converting to integers:\n",
        "- Bit 0 is the **least significant bit** (value 2^0).\n",
        "- Bit n-1 is the **most significant bit** (value 2^(n-1))."
      ]
    },
    {
      "cell_type": "code",
      "execution_count": 12,
      "id": "a4c17331",
      "metadata": {},
      "outputs": [
        {
          "name": "stdout",
          "output_type": "stream",
          "text": [
            "{'10': 1000}\n"
          ]
        }
      ],
      "source": [
        "from qiskit import QuantumCircuit, transpile\n",
        "from qiskit_aer import AerSimulator\n",
        "\n",
        "qc2 = QuantumCircuit(2, 2)\n",
        "qc2.x(1)\n",
        "qc2.measure([0, 1], [0, 1])\n",
        "\n",
        "backend = AerSimulator()\n",
        "qc2_t = transpile(qc2, backend)\n",
        "result = backend.run(qc2_t, shots=1000).result()\n",
        "print(result.get_counts())\n"
      ]
    },
    {
      "cell_type": "markdown",
      "id": "0200a67f",
      "metadata": {},
      "source": [
        "## 5. Strings: MSB on the left\n",
        "Strings are printed with the **most significant bit on the left**. For a 2-qubit system:\n",
        "- `10` means qubit 1 = 1, qubit 0 = 0."
      ]
    },
    {
      "cell_type": "code",
      "execution_count": 4,
      "id": "2690e241",
      "metadata": {},
      "outputs": [
        {
          "name": "stdout",
          "output_type": "stream",
          "text": [
            "{np.str_('00'): np.float64(0.4999999999999999), np.str_('01'): np.float64(0.4999999999999999)}\n"
          ]
        }
      ],
      "source": [
        "from qiskit.quantum_info import Statevector\n",
        "\n",
        "sv = Statevector.from_label(\"0+\")\n",
        "print(sv.probabilities_dict())"
      ]
    },
    {
      "cell_type": "code",
      "execution_count": 24,
      "id": "81a44742",
      "metadata": {},
      "outputs": [
        {
          "data": {
            "text/latex": [
              "$$\\frac{\\sqrt{2}}{2} |00\\rangle+\\frac{\\sqrt{2}}{2} |01\\rangle$$"
            ],
            "text/plain": [
              "<IPython.core.display.Latex object>"
            ]
          },
          "execution_count": 24,
          "metadata": {},
          "output_type": "execute_result"
        }
      ],
      "source": [
        "sv.draw(\"latex\")\n"
      ]
    },
    {
      "cell_type": "markdown",
      "id": "911aca83",
      "metadata": {},
      "source": [
        "> Try to changing the output to `text`, `latex`, `latex_source`, `qsphere`, `hinton`, `bloch`, `city`, or `paulivec`."
      ]
    },
    {
      "cell_type": "markdown",
      "id": "94e63e68",
      "metadata": {},
      "source": [
        "## 6. Statevector ordering\n",
        "The amplitude at index `x` corresponds to the computational basis state `|x⟩`."
      ]
    },
    {
      "cell_type": "code",
      "execution_count": 14,
      "id": "e4969a95",
      "metadata": {},
      "outputs": [
        {
          "name": "stdout",
          "output_type": "stream",
          "text": [
            "(0.7071067811865475+0j)\n",
            "0j\n"
          ]
        }
      ],
      "source": [
        "print(sv[1])  # amplitude for |01>\n",
        "print(sv[2])  # amplitude for |10>"
      ]
    },
    {
      "cell_type": "markdown",
      "id": "2dc27e54",
      "metadata": {},
      "source": [
        "## 7. Controlled gate conventions\n",
        "By default, `cx(control, target)` means control first, target second."
      ]
    },
    {
      "cell_type": "code",
      "execution_count": 15,
      "id": "28303a95",
      "metadata": {},
      "outputs": [
        {
          "data": {
            "image/png": "[encoded data removed]",
            "text/plain": [
              "<Figure size 203.683x200.667 with 1 Axes>"
            ]
          },
          "execution_count": 15,
          "metadata": {},
          "output_type": "execute_result"
        }
      ],
      "source": [
        "qc3 = QuantumCircuit(2)\n",
        "qc3.cx(0, 1)\n",
        "qc3.draw(output='mpl')"
      ]
    },
    {
      "cell_type": "markdown",
      "id": "1dbeb027",
      "metadata": {},
      "source": [
        "## 8. Reversing logical qubit order\n",
        "`reverse_bits()` returns a new circuit where qubit labels are reversed **logically** — changing which qubits operations apply to."
      ]
    },
    {
      "cell_type": "code",
      "execution_count": 16,
      "id": "a1826008",
      "metadata": {},
      "outputs": [
        {
          "data": {
            "image/png": "[encoded data removed]",
            "text/plain": [
              "<Figure size 203.683x200.667 with 1 Axes>"
            ]
          },
          "execution_count": 16,
          "metadata": {},
          "output_type": "execute_result"
        }
      ],
      "source": [
        "rev_qc = qc3.reverse_bits()\n",
        "rev_qc.draw(output='mpl')"
      ]
    },
    {
      "cell_type": "markdown",
      "id": "8702110b",
      "metadata": {},
      "source": [
        "## Summary\n",
        "- Internal index vs. diagram order.\n",
        "- LSB/MSB significance in integers and strings.\n",
        "- Computational basis indexing for statevectors.\n",
        "- Controlled gate argument order.\n",
        "- How to intentionally reverse ordering."
      ]
    },
    {
      "cell_type": "markdown",
      "id": "5a1823ff",
      "metadata": {},
      "source": [
        "## Additional information\n",
        "\n",
        "**Created by:** Ricard Santiago Raigada García\n",
        "\n",
        "**Version:** 1.0.0"
      ]
    }
  ],
  "metadata": {
    "kernelspec": {
      "display_name": "Python (qiskit)",
      "language": "python",
      "name": "qiskit"
    },
    "language_info": {
      "codemirror_mode": {
        "name": "ipython",
        "version": 3
      },
      "file_extension": ".py",
      "mimetype": "text/x-python",
      "name": "python",
      "nbconvert_exporter": "python",
      "pygments_lexer": "ipython3",
      "version": "3.11.13"
    }
  },
  "nbformat": 4,
  "nbformat_minor": 5
}
