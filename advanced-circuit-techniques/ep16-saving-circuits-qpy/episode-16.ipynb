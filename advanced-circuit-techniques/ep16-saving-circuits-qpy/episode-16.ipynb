{
 "cells": [
  {
   "cell_type": "markdown",
   "id": "c352fdc8",
   "metadata": {},
   "source": [
    "# Episode 16 — Saving and Loading Circuits with QPY Serialization\n",
    "\n",
    "QPY is Qiskit's **binary, forward‑compatible** format for serializing `QuantumCircuit` objects. \n",
    "Use it when you want to persist full circuit structure (including metadata) or move circuits between machines and Python versions.\n",
    "\n",
    "In this notebook you will:\n",
    "1. Save and load a circuit with `qiskit.qpy.dump` / `load`.\n",
    "2. Serialize **multiple** circuits in a single file.\n",
    "3. Use **gzip** compression and **version** checks.\n",
    "4. Verify **round‑trip integrity** (matrix equality).\n",
    "5. Complete a small **challenge**.\n",
    "\n",
    "> Tip: QPY is forward compatible (newer Qiskit can read older files). Backwards compatibility (old Qiskit reading newer QPY) is **not** guaranteed."
   ]
  },
  {
   "cell_type": "markdown",
   "id": "aaca0336",
   "metadata": {},
   "source": [
    "## 0. Imports and helpers"
   ]
  },
  {
   "cell_type": "code",
   "execution_count": 1,
   "id": "a77ba43b",
   "metadata": {},
   "outputs": [],
   "source": [
    "from __future__ import annotations\n",
    "import os, gzip, json, tempfile, contextlib\n",
    "from pathlib import Path\n",
    "from typing import Iterable, List\n",
    "\n",
    "import numpy as np\n",
    "from qiskit import QuantumCircuit, qpy\n",
    "from qiskit.quantum_info import Operator\n",
    "\n",
    "def save_qpy(path: str | os.PathLike, circuits):\n",
    "    \"\"\"Save a circuit or list of circuits to QPY.\"\"\"\n",
    "    with open(path, \"wb\") as f:\n",
    "        qpy.dump(circuits, f)\n",
    "\n",
    "def load_qpy(path: str | os.PathLike) -> List[QuantumCircuit]:\n",
    "    \"\"\"Load QPY file and return a list of circuits.\"\"\"\n",
    "    with open(path, \"rb\") as f:\n",
    "        return qpy.load(f)\n",
    "\n",
    "@contextlib.contextmanager\n",
    "def tempdir():\n",
    "    d = tempfile.TemporaryDirectory()\n",
    "    try:\n",
    "        yield Path(d.name)\n",
    "    finally:\n",
    "        d.cleanup()"
   ]
  },
  {
   "cell_type": "markdown",
   "id": "88aab149",
   "metadata": {},
   "source": [
    "## 1. Save and load a single circuit\n",
    "We’ll create a tiny Bell circuit, dump it to a `.qpy` file, and load it back."
   ]
  },
  {
   "cell_type": "code",
   "execution_count": 2,
   "id": "401681db",
   "metadata": {},
   "outputs": [
    {
     "name": "stdout",
     "output_type": "stream",
     "text": [
      "Loaded 1 circuit(s)\n"
     ]
    }
   ],
   "source": [
    "with tempdir() as d:\n",
    "    bell = QuantumCircuit(2, name=\"Bell\", metadata={\"author\": \"you\"})\n",
    "    bell.h(0)\n",
    "    bell.cx(0, 1)\n",
    "    bell.measure_all()\n",
    "\n",
    "    qpy_path = d / \"bell.qpy\"\n",
    "    save_qpy(qpy_path, bell)\n",
    "\n",
    "    loaded = load_qpy(qpy_path)\n",
    "    print(f\"Loaded {len(loaded)} circuit(s)\")\n",
    "    loaded[0].draw(\"mpl\")"
   ]
  },
  {
   "cell_type": "markdown",
   "id": "afbf8e15",
   "metadata": {},
   "source": [
    "## 2. Store multiple circuits in one file\n",
    "QPY can hold a **list** of circuits. Loading always returns a list—even if you stored just one."
   ]
  },
  {
   "cell_type": "code",
   "execution_count": 3,
   "id": "e81f0822",
   "metadata": {},
   "outputs": [
    {
     "name": "stdout",
     "output_type": "stream",
     "text": [
      "['x_gate', 'h_gate']\n"
     ]
    }
   ],
   "source": [
    "with tempdir() as d:\n",
    "    c1 = QuantumCircuit(1, name=\"x_gate\"); c1.x(0)\n",
    "    c2 = QuantumCircuit(1, name=\"h_gate\"); c2.h(0)\n",
    "    bundle_path = d / \"bundle.qpy\"\n",
    "    save_qpy(bundle_path, [c1, c2])\n",
    "    back = load_qpy(bundle_path)\n",
    "    print([qc.name for qc in back])"
   ]
  },
  {
   "cell_type": "markdown",
   "id": "cc091fbf",
   "metadata": {},
   "source": [
    "## 3. Optional: gzip‑compressed QPY\n",
    "You can compress the payload using `gzip` to reduce disk usage (nice for large collections)."
   ]
  },
  {
   "cell_type": "code",
   "execution_count": 4,
   "id": "7579ede8",
   "metadata": {},
   "outputs": [
    {
     "name": "stdout",
     "output_type": "stream",
     "text": [
      "ghz\n"
     ]
    }
   ],
   "source": [
    "with tempdir() as d:\n",
    "    qc = QuantumCircuit(3, name=\"ghz\")\n",
    "    qc.h(0); qc.cx(0,1); qc.cx(1,2)\n",
    "\n",
    "    gz_path = d / \"ghz.qpy.gz\"\n",
    "    with gzip.open(gz_path, \"wb\") as f:\n",
    "        qpy.dump(qc, f)\n",
    "\n",
    "    with gzip.open(gz_path, \"rb\") as f:\n",
    "        restored = qpy.load(f)\n",
    "\n",
    "    print(restored[0].name)\n",
    "    restored[0].draw(\"mpl\")"
   ]
  },
  {
   "cell_type": "markdown",
   "id": "e2b6c450",
   "metadata": {},
   "source": [
    "## 4. Version checks and round‑trip integrity\n",
    "You can inspect a file's QPY **format version** with `qpy.get_qpy_version`. \n",
    "We'll also verify that a circuit's action is preserved by comparing unitaries before and after serialization."
   ]
  },
  {
   "cell_type": "code",
   "execution_count": 5,
   "id": "4794c388",
   "metadata": {},
   "outputs": [
    {
     "name": "stdout",
     "output_type": "stream",
     "text": [
      "QPY format version: 15\n",
      "Unitary preserved: True\n"
     ]
    }
   ],
   "source": [
    "with tempdir() as d:\n",
    "    qc = QuantumCircuit(2, name=\"unitary_test\")\n",
    "    qc.ry(0.3, 0); qc.rz(0.7, 1); qc.cx(0,1)\n",
    "    U_before = Operator(qc)\n",
    "\n",
    "    p = d / \"u.qpy\"\n",
    "    save_qpy(p, qc)\n",
    "    ver = qpy.get_qpy_version(open(p, \"rb\"))\n",
    "    print(\"QPY format version:\", ver)\n",
    "\n",
    "    qc2 = load_qpy(p)[0]\n",
    "    U_after = Operator(qc2)\n",
    "    print(\"Unitary preserved:\", np.allclose(U_before.data, U_after.data))"
   ]
  },
  {
   "cell_type": "markdown",
   "id": "f970d01a",
   "metadata": {},
   "source": [
    "### Notes & Pitfalls\n",
    "- QPY is **forward compatible**. Loading with **older** Qiskit versions may fail.\n",
    "- Circuit **metadata** is serialized using JSON. Custom objects need custom serializers.\n",
    "- If you intentionally need to target an **older QPY format**, `qpy.dump(..., version=...)` lets you select (within supported bounds). If a feature cannot be represented in that version, an `UnsupportedFeatureForVersion` error is raised.\n",
    "- Pulse payloads from legacy versions deserialize as undefined custom instructions (no calibrations) in Qiskit ≥ 2.0."
   ]
  },
  {
   "cell_type": "markdown",
   "id": "4fad4429",
   "metadata": {},
   "source": [
    "## 5. Mini Challenge\n",
    "**Task:**\n",
    "1. Build a 2‑qubit circuit with a parameter (e.g., `theta`).\n",
    "2. Save two files: one with the default QPY version and one with an explicitly lower `version` (if supported in your install).\n",
    "3. Load both files and show that drawing the circuits yields the same structure.\n",
    "4. Confirm that their **operators** are identical when substituting a numeric value for the parameter.\n",
    "\n",
    "<details>\n",
    "<summary>Show solution</summary>\n",
    "\n",
    "```python\n",
    "from qiskit.circuit import Parameter\n",
    "from qiskit import qpy\n",
    "from qiskit.quantum_info import Operator\n",
    "import numpy as np\n",
    "\n",
    "theta = Parameter('θ')\n",
    "qc = QuantumCircuit(2, name='param_demo')\n",
    "qc.rx(theta, 0)\n",
    "qc.ry(0.25, 1)\n",
    "qc.cx(0, 1)\n",
    "\n",
    "with tempdir() as d:\n",
    "    p_def = d / 'param_default.qpy'\n",
    "    with open(p_def, 'wb') as f:\n",
    "        qpy.dump(qc, f)  # default (latest) version\n",
    "\n",
    "    # If your installed Qiskit supports exporting an older version, set it here.\n",
    "    # Fallback: write again with current version if not supported.\n",
    "    p_old = d / 'param_old.qpy'\n",
    "    try:\n",
    "        with open(p_old, 'wb') as f:\n",
    "            qpy.dump(qc, f, version=qpy.QPY_COMPATIBILITY_VERSION)\n",
    "    except ValueError:\n",
    "        with open(p_old, 'wb') as f:\n",
    "            qpy.dump(qc, f)  # same as default when older not allowed\n",
    "\n",
    "    q1 = qpy.load(open(p_def, 'rb'))[0]\n",
    "    q2 = qpy.load(open(p_old, 'rb'))[0]\n",
    "    display(q1.draw('mpl'))\n",
    "    display(q2.draw('mpl'))\n",
    "\n",
    "    U1 = Operator(q1.assign_parameters({theta: 0.42}))\n",
    "    U2 = Operator(q2.assign_parameters({theta: 0.42}))\n",
    "    print('Same unitary after assign:', np.allclose(U1.data, U2.data))\n",
    "```\n",
    "\n",
    "</details>"
   ]
  },
  {
   "cell_type": "markdown",
   "id": "94848933",
   "metadata": {},
   "source": [
    "## Additional information\n",
    "\n",
    "**Created by:** Ricard Santiago Raigada García\n",
    "\n",
    "**Version:** 1.0.0"
   ]
  }
 ],
 "metadata": {
  "kernelspec": {
   "display_name": "Python (qiskit)",
   "language": "python",
   "name": "qiskit"
  },
  "language_info": {
   "codemirror_mode": {
    "name": "ipython",
    "version": 3
   },
   "file_extension": ".py",
   "mimetype": "text/x-python",
   "name": "python",
   "nbconvert_exporter": "python",
   "pygments_lexer": "ipython3",
   "version": "3.11.13"
  }
 },
 "nbformat": 4,
 "nbformat_minor": 5
}
